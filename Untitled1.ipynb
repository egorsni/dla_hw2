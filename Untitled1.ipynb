{
 "cells": [
  {
   "cell_type": "code",
   "execution_count": null,
   "id": "46a3af7b",
   "metadata": {
    "cellId": "4zyyu4vfo0hrok1h13rak"
   },
   "outputs": [],
   "source": []
  }
 ],
 "metadata": {
  "language_info": {
   "codemirror_mode": {
    "name": "ipython",
    "version": 3
   },
   "file_extension": ".py",
   "mimetype": "text/x-python",
   "name": "python",
   "nbconvert_exporter": "python",
   "pygments_lexer": "ipython3",
   "version": "3.7.7"
  },
  "notebookId": "d5eac891-fcc0-40cf-ae37-e2d894667c4f",
  "notebookPath": "dla_hw2/Untitled1.ipynb"
 },
 "nbformat": 4,
 "nbformat_minor": 5
}
